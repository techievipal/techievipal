{
 "cells": [
  {
   "cell_type": "markdown",
   "id": "d2935838-c09f-4216-b1f8-bb9625d390c7",
   "metadata": {
    "tags": []
   },
   "source": [
    "## Function to upload csv file from local computer to Azure data lake storage account."
   ]
  },
  {
   "cell_type": "markdown",
   "id": "f1624b70-e4e3-4f26-a501-48094806bf19",
   "metadata": {},
   "source": [
    "### To Achieve this first create a Data lake storage account and then create a container inside that storage account and then create a directory inside that container"
   ]
  },
  {
   "cell_type": "markdown",
   "id": "89203d48-3078-4ec4-b282-da48ed906bcb",
   "metadata": {},
   "source": [
    "### Follow the steps"
   ]
  },
  {
   "cell_type": "markdown",
   "id": "335c430d-55a6-4110-a5fa-db6d986bed02",
   "metadata": {},
   "source": [
    "## Import libraries"
   ]
  },
  {
   "cell_type": "code",
   "execution_count": null,
   "id": "4fc6c0c1-b9aa-410b-b650-663fa2b64651",
   "metadata": {},
   "outputs": [],
   "source": [
    "import os, uuid, sys\n",
    "from azure.storage.filedatalake import DataLakeServiceClient\n",
    "from azure.core._match_conditions import MatchConditions\n",
    "from azure.storage.filedatalake._models import ContentSettings"
   ]
  },
  {
   "cell_type": "markdown",
   "id": "5e4782db-95fa-441b-935c-dd1aff9f1845",
   "metadata": {},
   "source": [
    "## Define function"
   ]
  },
  {
   "cell_type": "code",
   "execution_count": null,
   "id": "3f5d10ec-45e7-40cf-974f-ff3b74ca023e",
   "metadata": {},
   "outputs": [],
   "source": [
    "def Upload_CSV_File(storage_account_name,storageaccountkey,storagecontainer,cont_directory,path_filetocopy):\n",
    "    try:\n",
    "        \n",
    "        \n",
    "        storageaccountconnection = DataLakeServiceClient(account_url=\"{}://{}.dfs.core.windows.net\".format(\"https\", storage_account_name), credential=storageaccountkey)\n",
    "        \n",
    "        ContainerConnection = storageaccountconnection.get_file_system_client(file_system=storagecontainer)\n",
    "\n",
    "        directory_client = ContainerConnection.get_directory_client(cont_directory)\n",
    "        \n",
    "        file_client = directory_client.create_file(\"mycsv.csv\")\n",
    "        local_file = open(path_filetocopy,'r')\n",
    "\n",
    "        file_contents = local_file.read()\n",
    "\n",
    "        file_client.append_data(data=file_contents, offset=0, length=len(file_contents))\n",
    "\n",
    "        file_client.flush_data(len(file_contents))\n",
    "\n",
    "    except Exception as e:\n",
    "      print(e)"
   ]
  },
  {
   "cell_type": "markdown",
   "id": "f5449699-a10d-4c51-a50f-ea24c0fd6209",
   "metadata": {},
   "source": [
    "## Call the function and go to azure directory and see if the file is uploaded"
   ]
  },
  {
   "cell_type": "code",
   "execution_count": null,
   "id": "4655bfae-10ef-47c8-8c82-50bf31109775",
   "metadata": {},
   "outputs": [],
   "source": [
    "Upload_CSV_File('mydatalake','R41O34WRdnTNHtGJRxuUHmb94JL2+NxRYGgHvEaTrtPRQ==','microsoftfiles','dir1','c:/mycsv/Scoring.csv')"
   ]
  }
 ],
 "metadata": {
  "kernelspec": {
   "display_name": "Python 3 (ipykernel)",
   "language": "python",
   "name": "python3"
  },
  "language_info": {
   "codemirror_mode": {
    "name": "ipython",
    "version": 3
   },
   "file_extension": ".py",
   "mimetype": "text/x-python",
   "name": "python",
   "nbconvert_exporter": "python",
   "pygments_lexer": "ipython3",
   "version": "3.9.7"
  }
 },
 "nbformat": 4,
 "nbformat_minor": 5
}
